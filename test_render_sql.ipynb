{
 "cells": [
  {
   "cell_type": "code",
   "execution_count": null,
   "id": "0f817aa1-60dc-4b29-87bd-706670723eb4",
   "metadata": {},
   "outputs": [],
   "source": [
    "from tools.render_sql import render_sql\n",
    "\n",
    "metric_sql = render_sql('metrics/active_users/active_users.sql', \n",
    "                 {'as_of_date':'2025-09-17','time_grain':'week','channel':None})\n",
    "\n",
    "print(metric_sql)"
   ]
  },
  {
   "cell_type": "code",
   "execution_count": null,
   "id": "f6cd895f-1dd9-45bb-bb0e-225835662c93",
   "metadata": {},
   "outputs": [],
   "source": [
    "sql = render_sql(\n",
    "    \"queries/sample/sample.sql\",\n",
    "    {\"start_date\": \"2025-09-01\", \"end_date\": \"2025-09-07\", \"limit\": 3}\n",
    ")\n",
    "\n",
    "print(sql)"
   ]
  }
 ],
 "metadata": {
  "kernelspec": {
   "display_name": "Python 3 (ipykernel)",
   "language": "python",
   "name": "python3"
  },
  "language_info": {
   "codemirror_mode": {
    "name": "ipython",
    "version": 3
   },
   "file_extension": ".py",
   "mimetype": "text/x-python",
   "name": "python",
   "nbconvert_exporter": "python",
   "pygments_lexer": "ipython3",
   "version": "3.10.13"
  }
 },
 "nbformat": 4,
 "nbformat_minor": 5
}
