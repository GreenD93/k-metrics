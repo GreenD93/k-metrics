{
 "cells": [
  {
   "cell_type": "code",
   "execution_count": 1,
   "id": "0f817aa1-60dc-4b29-87bd-706670723eb4",
   "metadata": {},
   "outputs": [
    {
     "name": "stdout",
     "output_type": "stream",
     "text": [
      "-- active_users.sql (Athena/Presto, 패턴 B 수정판)\n",
      "-- params: as_of_date, time_grain, channel(optional)\n",
      "\n",
      "\n",
      "WITH src AS (\n",
      "  SELECT\n",
      "    user_id,\n",
      "    event_ts,\n",
      "    date(event_ts) AS d,\n",
      "    channel, device, region\n",
      "  FROM prod.raw.app_events\n",
      "  WHERE date_trunc('week',  event_ts) = date_trunc('week',  from_iso8601_timestamp('2025-09-17'))\n",
      ")\n",
      "SELECT\n",
      "  date(date_trunc('week', event_ts)) AS period,\n",
      "  COUNT(DISTINCT user_id) AS active_users\n",
      "FROM src\n",
      "GROUP BY 1\n",
      "ORDER BY 1;\n"
     ]
    }
   ],
   "source": [
    "from tools.render_sql import render_sql\n",
    "\n",
    "metric_sql = render_sql('metrics/active_users/active_users.sql', \n",
    "                 {'as_of_date':'2025-09-17','time_grain':'week','channel':None})\n",
    "\n",
    "print(metric_sql)"
   ]
  },
  {
   "cell_type": "code",
   "execution_count": 2,
   "id": "f6cd895f-1dd9-45bb-bb0e-225835662c93",
   "metadata": {},
   "outputs": [
    {
     "name": "stdout",
     "output_type": "stream",
     "text": [
      "-- params:\n",
      "--   start_date, end_date, limit(optional)\n",
      "\n",
      "SELECT\n",
      "  channel,\n",
      "  COUNT(*) AS event_count\n",
      "FROM prod.raw.app_events\n",
      "WHERE date(event_ts) BETWEEN date('2025-09-01') AND date('2025-09-07')\n",
      "GROUP BY channel\n",
      "ORDER BY event_count DESC\n",
      "LIMIT 3;\n"
     ]
    }
   ],
   "source": [
    "sql = render_sql(\n",
    "    \"queries/sample/sample.sql\",\n",
    "    {\"start_date\": \"2025-09-01\", \"end_date\": \"2025-09-07\", \"limit\": 3}\n",
    ")\n",
    "\n",
    "print(sql)"
   ]
  }
 ],
 "metadata": {
  "kernelspec": {
   "display_name": "Python 3 (ipykernel)",
   "language": "python",
   "name": "python3"
  },
  "language_info": {
   "codemirror_mode": {
    "name": "ipython",
    "version": 3
   },
   "file_extension": ".py",
   "mimetype": "text/x-python",
   "name": "python",
   "nbconvert_exporter": "python",
   "pygments_lexer": "ipython3",
   "version": "3.10.13"
  }
 },
 "nbformat": 4,
 "nbformat_minor": 5
}
